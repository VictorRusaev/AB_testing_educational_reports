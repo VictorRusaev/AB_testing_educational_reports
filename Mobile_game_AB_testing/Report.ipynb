{
 "cells": [
  {
   "cell_type": "markdown",
   "metadata": {},
   "source": [
    "## Analysis of Mobile Game AB test results"
   ]
  },
  {
   "cell_type": "markdown",
   "metadata": {},
   "source": [
    "### Table of content\n",
    "1. [Description of dataset](#Description)\n",
    "2. [Main parameters](#parameters)\n",
    "3. [Analysis of numeric data in column named 'sum_gamerounds'](#numeric)\n",
    "  1. [Conclusion about sum_gamerounds](#gameround)\n",
    "4. [Analysis of categorical data in column named 'retention_1'](#retention1)\n",
    "  1. [Conclusion about data of retention_1](#retention_1) \n",
    "5. [Analysis of categorical data in column named 'retention_7'](#retention7)\n",
    "  1. [Conclusion about data of retention_7](#retention_7)\n",
    "6. [Conclusion and recommendations](#recommendations)"
   ]
  },
  {
   "cell_type": "markdown",
   "metadata": {
    "id": "9NWog4Otkcvy"
   },
   "source": [
    "### Description of dataset <a name=\"Description\"></a>\n",
    "The data we have is from 90,189 players that installed the game while the AB-test was running. The variables are:<br>\n",
    "<br>\n",
    "userid - a unique number that identifies each player.<br>\n",
    "version - whether the player was put in the control group (gate_30 - a gate at level 30) or the group with the moved gate (gate_40 - a gate at level 40).<br>\n",
    "sum_gamerounds - the number of game rounds played by the player during the first 14 days after install.<br>\n",
    "retention_1 - did the player come back and play 1 day after installing?<br>\n",
    "retention_7 - did the player come back and play 7 days after installing?<br>\n",
    "When a player installed the game, he or she was randomly assigned to either gate_30 or gate_40."
   ]
  },
  {
   "cell_type": "code",
   "execution_count": 17,
   "metadata": {
    "id": "wJZfB892kb2_"
   },
   "outputs": [],
   "source": [
    "import scipy.stats as stats\n",
    "import numpy as np\n",
    "import pandas as pd\n",
    "\n",
    "import warnings\n",
    "warnings.filterwarnings('ignore')\n",
    "warnings.warn('DelftStack')\n",
    "warnings.warn('Do not show this message')"
   ]
  },
  {
   "cell_type": "code",
   "execution_count": 2,
   "metadata": {
    "colab": {
     "base_uri": "https://localhost:8080/",
     "height": 380
    },
    "id": "QlZh_MahlHP2",
    "outputId": "22f0488e-a45d-40cd-df2b-b0e85df55de1"
   },
   "outputs": [
    {
     "data": {
      "text/html": [
       "<div>\n",
       "<style scoped>\n",
       "    .dataframe tbody tr th:only-of-type {\n",
       "        vertical-align: middle;\n",
       "    }\n",
       "\n",
       "    .dataframe tbody tr th {\n",
       "        vertical-align: top;\n",
       "    }\n",
       "\n",
       "    .dataframe thead th {\n",
       "        text-align: right;\n",
       "    }\n",
       "</style>\n",
       "<table border=\"1\" class=\"dataframe\">\n",
       "  <thead>\n",
       "    <tr style=\"text-align: right;\">\n",
       "      <th></th>\n",
       "      <th>userid</th>\n",
       "      <th>version</th>\n",
       "      <th>sum_gamerounds</th>\n",
       "      <th>retention_1</th>\n",
       "      <th>retention_7</th>\n",
       "    </tr>\n",
       "  </thead>\n",
       "  <tbody>\n",
       "    <tr>\n",
       "      <th>0</th>\n",
       "      <td>116</td>\n",
       "      <td>gate_30</td>\n",
       "      <td>3</td>\n",
       "      <td>0</td>\n",
       "      <td>0</td>\n",
       "    </tr>\n",
       "    <tr>\n",
       "      <th>1</th>\n",
       "      <td>337</td>\n",
       "      <td>gate_30</td>\n",
       "      <td>38</td>\n",
       "      <td>1</td>\n",
       "      <td>0</td>\n",
       "    </tr>\n",
       "    <tr>\n",
       "      <th>2</th>\n",
       "      <td>377</td>\n",
       "      <td>gate_40</td>\n",
       "      <td>165</td>\n",
       "      <td>1</td>\n",
       "      <td>0</td>\n",
       "    </tr>\n",
       "    <tr>\n",
       "      <th>3</th>\n",
       "      <td>483</td>\n",
       "      <td>gate_40</td>\n",
       "      <td>1</td>\n",
       "      <td>0</td>\n",
       "      <td>0</td>\n",
       "    </tr>\n",
       "    <tr>\n",
       "      <th>4</th>\n",
       "      <td>488</td>\n",
       "      <td>gate_40</td>\n",
       "      <td>179</td>\n",
       "      <td>1</td>\n",
       "      <td>1</td>\n",
       "    </tr>\n",
       "    <tr>\n",
       "      <th>5</th>\n",
       "      <td>540</td>\n",
       "      <td>gate_40</td>\n",
       "      <td>187</td>\n",
       "      <td>1</td>\n",
       "      <td>1</td>\n",
       "    </tr>\n",
       "    <tr>\n",
       "      <th>6</th>\n",
       "      <td>1066</td>\n",
       "      <td>gate_30</td>\n",
       "      <td>0</td>\n",
       "      <td>0</td>\n",
       "      <td>0</td>\n",
       "    </tr>\n",
       "    <tr>\n",
       "      <th>7</th>\n",
       "      <td>1444</td>\n",
       "      <td>gate_40</td>\n",
       "      <td>2</td>\n",
       "      <td>0</td>\n",
       "      <td>0</td>\n",
       "    </tr>\n",
       "    <tr>\n",
       "      <th>8</th>\n",
       "      <td>1574</td>\n",
       "      <td>gate_40</td>\n",
       "      <td>108</td>\n",
       "      <td>1</td>\n",
       "      <td>1</td>\n",
       "    </tr>\n",
       "    <tr>\n",
       "      <th>9</th>\n",
       "      <td>1587</td>\n",
       "      <td>gate_40</td>\n",
       "      <td>153</td>\n",
       "      <td>1</td>\n",
       "      <td>0</td>\n",
       "    </tr>\n",
       "  </tbody>\n",
       "</table>\n",
       "</div>"
      ],
      "text/plain": [
       "   userid  version  sum_gamerounds  retention_1  retention_7\n",
       "0     116  gate_30               3            0            0\n",
       "1     337  gate_30              38            1            0\n",
       "2     377  gate_40             165            1            0\n",
       "3     483  gate_40               1            0            0\n",
       "4     488  gate_40             179            1            1\n",
       "5     540  gate_40             187            1            1\n",
       "6    1066  gate_30               0            0            0\n",
       "7    1444  gate_40               2            0            0\n",
       "8    1574  gate_40             108            1            1\n",
       "9    1587  gate_40             153            1            0"
      ]
     },
     "execution_count": 2,
     "metadata": {},
     "output_type": "execute_result"
    }
   ],
   "source": [
    "data = pd.read_csv('./game_ab_test_results.csv')\n",
    "data.head(10)"
   ]
  },
  {
   "cell_type": "markdown",
   "metadata": {},
   "source": [
    "Let's check **main parameters** <a name =\"parameters\"></a>"
   ]
  },
  {
   "cell_type": "code",
   "execution_count": 3,
   "metadata": {
    "colab": {
     "base_uri": "https://localhost:8080/"
    },
    "id": "gz3beF1vmJ3R",
    "outputId": "487b18fd-0405-4233-edcb-d0ece11f1a4f"
   },
   "outputs": [
    {
     "name": "stdout",
     "output_type": "stream",
     "text": [
      "<class 'pandas.core.frame.DataFrame'>\n",
      "RangeIndex: 90189 entries, 0 to 90188\n",
      "Data columns (total 5 columns):\n",
      " #   Column          Non-Null Count  Dtype \n",
      "---  ------          --------------  ----- \n",
      " 0   userid          90189 non-null  int64 \n",
      " 1   version         90189 non-null  object\n",
      " 2   sum_gamerounds  90189 non-null  int64 \n",
      " 3   retention_1     90189 non-null  int64 \n",
      " 4   retention_7     90189 non-null  int64 \n",
      "dtypes: int64(4), object(1)\n",
      "memory usage: 3.4+ MB\n"
     ]
    }
   ],
   "source": [
    "data.info()"
   ]
  },
  {
   "cell_type": "code",
   "execution_count": 4,
   "metadata": {
    "colab": {
     "base_uri": "https://localhost:8080/",
     "height": 300
    },
    "id": "aXDuw9r4mPNj",
    "outputId": "59fe2d98-67a7-494c-fe2d-52a4eae11bd1"
   },
   "outputs": [
    {
     "data": {
      "text/html": [
       "<div>\n",
       "<style scoped>\n",
       "    .dataframe tbody tr th:only-of-type {\n",
       "        vertical-align: middle;\n",
       "    }\n",
       "\n",
       "    .dataframe tbody tr th {\n",
       "        vertical-align: top;\n",
       "    }\n",
       "\n",
       "    .dataframe thead th {\n",
       "        text-align: right;\n",
       "    }\n",
       "</style>\n",
       "<table border=\"1\" class=\"dataframe\">\n",
       "  <thead>\n",
       "    <tr style=\"text-align: right;\">\n",
       "      <th></th>\n",
       "      <th>userid</th>\n",
       "      <th>sum_gamerounds</th>\n",
       "      <th>retention_1</th>\n",
       "      <th>retention_7</th>\n",
       "    </tr>\n",
       "  </thead>\n",
       "  <tbody>\n",
       "    <tr>\n",
       "      <th>count</th>\n",
       "      <td>9.018900e+04</td>\n",
       "      <td>90189.000000</td>\n",
       "      <td>90189.000000</td>\n",
       "      <td>90189.000000</td>\n",
       "    </tr>\n",
       "    <tr>\n",
       "      <th>mean</th>\n",
       "      <td>4.998412e+06</td>\n",
       "      <td>51.872457</td>\n",
       "      <td>0.445210</td>\n",
       "      <td>0.186065</td>\n",
       "    </tr>\n",
       "    <tr>\n",
       "      <th>std</th>\n",
       "      <td>2.883286e+06</td>\n",
       "      <td>195.050858</td>\n",
       "      <td>0.496992</td>\n",
       "      <td>0.389161</td>\n",
       "    </tr>\n",
       "    <tr>\n",
       "      <th>min</th>\n",
       "      <td>1.160000e+02</td>\n",
       "      <td>0.000000</td>\n",
       "      <td>0.000000</td>\n",
       "      <td>0.000000</td>\n",
       "    </tr>\n",
       "    <tr>\n",
       "      <th>25%</th>\n",
       "      <td>2.512230e+06</td>\n",
       "      <td>5.000000</td>\n",
       "      <td>0.000000</td>\n",
       "      <td>0.000000</td>\n",
       "    </tr>\n",
       "    <tr>\n",
       "      <th>50%</th>\n",
       "      <td>4.995815e+06</td>\n",
       "      <td>16.000000</td>\n",
       "      <td>0.000000</td>\n",
       "      <td>0.000000</td>\n",
       "    </tr>\n",
       "    <tr>\n",
       "      <th>75%</th>\n",
       "      <td>7.496452e+06</td>\n",
       "      <td>51.000000</td>\n",
       "      <td>1.000000</td>\n",
       "      <td>0.000000</td>\n",
       "    </tr>\n",
       "    <tr>\n",
       "      <th>max</th>\n",
       "      <td>9.999861e+06</td>\n",
       "      <td>49854.000000</td>\n",
       "      <td>1.000000</td>\n",
       "      <td>1.000000</td>\n",
       "    </tr>\n",
       "  </tbody>\n",
       "</table>\n",
       "</div>"
      ],
      "text/plain": [
       "             userid  sum_gamerounds   retention_1   retention_7\n",
       "count  9.018900e+04    90189.000000  90189.000000  90189.000000\n",
       "mean   4.998412e+06       51.872457      0.445210      0.186065\n",
       "std    2.883286e+06      195.050858      0.496992      0.389161\n",
       "min    1.160000e+02        0.000000      0.000000      0.000000\n",
       "25%    2.512230e+06        5.000000      0.000000      0.000000\n",
       "50%    4.995815e+06       16.000000      0.000000      0.000000\n",
       "75%    7.496452e+06       51.000000      1.000000      0.000000\n",
       "max    9.999861e+06    49854.000000      1.000000      1.000000"
      ]
     },
     "execution_count": 4,
     "metadata": {},
     "output_type": "execute_result"
    }
   ],
   "source": [
    "data.describe()"
   ]
  },
  {
   "cell_type": "code",
   "execution_count": 5,
   "metadata": {
    "colab": {
     "base_uri": "https://localhost:8080/"
    },
    "id": "TaXJknnBmlvZ",
    "outputId": "d4fc2ebd-c2c2-4a31-f988-23c4b86a5b4b"
   },
   "outputs": [
    {
     "data": {
      "text/plain": [
       "90189"
      ]
     },
     "execution_count": 5,
     "metadata": {},
     "output_type": "execute_result"
    }
   ],
   "source": [
    "data.userid.nunique()"
   ]
  },
  {
   "cell_type": "code",
   "execution_count": 9,
   "metadata": {
    "colab": {
     "base_uri": "https://localhost:8080/"
    },
    "id": "Rc3_WldsnQEH",
    "outputId": "c2888db9-2b2d-438d-e10d-8aa9e2a1aeb0"
   },
   "outputs": [
    {
     "data": {
      "text/plain": [
       "gate_40    45489\n",
       "gate_30    44700\n",
       "Name: version, dtype: int64"
      ]
     },
     "execution_count": 9,
     "metadata": {},
     "output_type": "execute_result"
    }
   ],
   "source": [
    "data.version.value_counts()"
   ]
  },
  {
   "cell_type": "markdown",
   "metadata": {},
   "source": [
    "All user_ids in dataset are unique.<br>\n",
    "Types of data in different columns are correct<br>\n",
    "It is almost 50% of data in each group now.<br>\n",
    "Dataset coonsists numeric data in column named 'sum_gamerounds' and categorcial data in columns named 'retention1' and 'retention7'.<br>\n",
    "\n",
    "Let's start from analysis of numeric data."
   ]
  },
  {
   "cell_type": "markdown",
   "metadata": {
    "id": "ArAyaWP1n5NG"
   },
   "source": [
    "### Analysis of numeric data in column named 'sum_gamerounds' <a name = \"numeric\"></a>\n",
    "Let's check for normality first."
   ]
  },
  {
   "cell_type": "code",
   "execution_count": 10,
   "metadata": {
    "colab": {
     "base_uri": "https://localhost:8080/"
    },
    "id": "KgzAV9_aq-lA",
    "outputId": "f2bf43f3-6f3e-4f05-adb1-980993feae1e"
   },
   "outputs": [
    {
     "name": "stdout",
     "output_type": "stream",
     "text": [
      "Distribution is not normal\n",
      "\n"
     ]
    }
   ],
   "source": [
    "alpha = 0.05\n",
    "\n",
    "st = stats.shapiro(data.sum_gamerounds)\n",
    "print('Distribution is {}normal\\n'.format( {True:'not ',\n",
    "False:''}[st[1] < alpha]));"
   ]
  },
  {
   "cell_type": "markdown",
   "metadata": {
    "id": "fYvjbDvaropf"
   },
   "source": [
    "Because of the distribution is not normal let's use Mann-Whitney test."
   ]
  },
  {
   "cell_type": "code",
   "execution_count": 11,
   "metadata": {
    "id": "vei6UmY9rmix"
   },
   "outputs": [],
   "source": [
    "gate_30 = data.query('version == \"gate_30\"')\n",
    "gate_40 = data.query('version == \"gate_40\"')"
   ]
  },
  {
   "cell_type": "code",
   "execution_count": 12,
   "metadata": {
    "colab": {
     "base_uri": "https://localhost:8080/"
    },
    "id": "OfSwxE49sOut",
    "outputId": "654d6395-1712-438b-9e8a-188ffc78c1a4"
   },
   "outputs": [
    {
     "data": {
      "text/plain": [
       "MannwhitneyuResult(statistic=1024331250.5, pvalue=0.05020880772044255)"
      ]
     },
     "execution_count": 12,
     "metadata": {},
     "output_type": "execute_result"
    }
   ],
   "source": [
    "stats.mannwhitneyu(x=gate_30['sum_gamerounds'].values, y=gate_40['sum_gamerounds'].values)"
   ]
  },
  {
   "cell_type": "code",
   "execution_count": 13,
   "metadata": {
    "colab": {
     "base_uri": "https://localhost:8080/"
    },
    "id": "Cf6xxRDqsrgW",
    "outputId": "34e1543e-ccb5-4c83-b525-0884a04ee998"
   },
   "outputs": [
    {
     "data": {
      "text/plain": [
       "52.45626398210291"
      ]
     },
     "execution_count": 13,
     "metadata": {},
     "output_type": "execute_result"
    }
   ],
   "source": [
    "gate_30.sum_gamerounds.mean()"
   ]
  },
  {
   "cell_type": "code",
   "execution_count": 14,
   "metadata": {
    "colab": {
     "base_uri": "https://localhost:8080/"
    },
    "id": "h7GxOFf6s0Ce",
    "outputId": "42081d52-10ae-48c8-e592-2f5c5fc59ea4"
   },
   "outputs": [
    {
     "data": {
      "text/plain": [
       "51.29877552814966"
      ]
     },
     "execution_count": 14,
     "metadata": {},
     "output_type": "execute_result"
    }
   ],
   "source": [
    "gate_40.sum_gamerounds.mean()"
   ]
  },
  {
   "cell_type": "markdown",
   "metadata": {},
   "source": [
    "#### Conclusion about sum_gamerounds <a name = \"gameround\"></a>\n",
    "According to Mann-Whitney test pvalue (0.0502) is almost equal to alpha (0.05)<br>\n",
    "At a given level of accuracy game_30 and game_40 distributions are equal.<br>\n",
    "Let's check categorical data."
   ]
  },
  {
   "cell_type": "markdown",
   "metadata": {
    "id": "rtWcx2D9wECX"
   },
   "source": [
    "### Analysis of categorical data in column named 'retention_1' <a name = \"retention1\"></a>"
   ]
  },
  {
   "cell_type": "code",
   "execution_count": 15,
   "metadata": {
    "colab": {
     "base_uri": "https://localhost:8080/"
    },
    "id": "UoK6oMDev2AE",
    "outputId": "470cd0aa-5631-464b-80c7-3253195aca6a"
   },
   "outputs": [
    {
     "name": "stdout",
     "output_type": "stream",
     "text": [
      "44700 45489\n",
      "20034 20119\n"
     ]
    }
   ],
   "source": [
    "n_gate_30_ret_1 = data[data['version'] == 'gate_30'].shape[0]\n",
    "n_gate_40_ret_1 = data[data['version'] == 'gate_40'].shape[0]\n",
    "suc_gate_30_ret_1 = data[data['version'] == 'gate_30'].retention_1.sum()\n",
    "suc_gate_40_ret_1 = data[data['version'] == 'gate_40'].retention_1.sum()\n",
    "\n",
    "print (n_gate_30_ret_1, n_gate_40_ret_1)\n",
    "print (suc_gate_30_ret_1, suc_gate_40_ret_1)"
   ]
  },
  {
   "cell_type": "code",
   "execution_count": 18,
   "metadata": {
    "colab": {
     "base_uri": "https://localhost:8080/"
    },
    "id": "onc3qyszxK--",
    "outputId": "0985d4a4-33a4-44f9-89a0-1cadbd911865"
   },
   "outputs": [
    {
     "name": "stdout",
     "output_type": "stream",
     "text": [
      "Results are chisq = 3.183, pvalue = 0.074\n"
     ]
    }
   ],
   "source": [
    "from statsmodels.stats import proportion\n",
    "chisq, pvalue, table = proportion.proportions_chisquare(np.array([suc_gate_30_ret_1, suc_gate_40_ret_1]), \\\n",
    "                                                        np.array([n_gate_30_ret_1, n_gate_40_ret_1]))\n",
    "\n",
    "print(f'Results are chisq = {round(chisq, 3)}, pvalue = {round(pvalue, 3)}')"
   ]
  },
  {
   "cell_type": "markdown",
   "metadata": {},
   "source": [
    "#### Conclusion about data of retention_1 <a name = \"retention_1\"></a>\n",
    "According to Chi square test pvalue (0.074) is more than alpha (0.05)<br>\n",
    "At a given level of accuracy game_30 and game_40 distributions are equal."
   ]
  },
  {
   "cell_type": "markdown",
   "metadata": {
    "id": "iC-e0itGxvho"
   },
   "source": [
    "### Analysis of categorical data in column named 'retention_7' <a name = \"retention7\"></a>"
   ]
  },
  {
   "cell_type": "code",
   "execution_count": 19,
   "metadata": {
    "colab": {
     "base_uri": "https://localhost:8080/"
    },
    "id": "uD8Xjga-xznB",
    "outputId": "77f80c93-10cd-408e-d66a-c453488d2059"
   },
   "outputs": [
    {
     "name": "stdout",
     "output_type": "stream",
     "text": [
      "44700 45489\n",
      "8502 8279\n"
     ]
    }
   ],
   "source": [
    "n_gate_30_ret_7 = data[data['version'] == 'gate_30'].shape[0]\n",
    "n_gate_40_ret_7 = data[data['version'] == 'gate_40'].shape[0]\n",
    "suc_gate_30_ret_7 = data[data['version'] == 'gate_30'].retention_7.sum()\n",
    "suc_gate_40_ret_7 = data[data['version'] == 'gate_40'].retention_7.sum()\n",
    "\n",
    "print (n_gate_30_ret_7, n_gate_40_ret_7)\n",
    "print (suc_gate_30_ret_7, suc_gate_40_ret_7)"
   ]
  },
  {
   "cell_type": "code",
   "execution_count": 20,
   "metadata": {
    "colab": {
     "base_uri": "https://localhost:8080/"
    },
    "id": "EJ7ZWKvJyOGE",
    "outputId": "f1311a71-788a-41cd-a6ff-e22bff8082fd"
   },
   "outputs": [
    {
     "name": "stdout",
     "output_type": "stream",
     "text": [
      "Results are chisq = 10.013, pvalue = 0.002\n"
     ]
    }
   ],
   "source": [
    "from statsmodels.stats import proportion\n",
    "chisq, pvalue, table = proportion.proportions_chisquare(np.array([suc_gate_30_ret_7, suc_gate_40_ret_7]), \\\n",
    "                                                        np.array([n_gate_30_ret_7, n_gate_40_ret_7]))\n",
    "\n",
    "print(f'Results are chisq = {round(chisq, 3)}, pvalue = {round(pvalue, 3)}')"
   ]
  },
  {
   "cell_type": "markdown",
   "metadata": {
    "id": "btb6wMMGy4F6"
   },
   "source": [
    "Значение pvalue значительно меньше alpha, то есть у выборок есть статистически значимые различия. Возврат пользователей через неделю выше в первой версии игры."
   ]
  },
  {
   "cell_type": "markdown",
   "metadata": {},
   "source": [
    "#### Conclusion about data of retention_7 <a name = \"retention_7\"></a>\n",
    "According to Chi square test pvalue (0.002) is less than alpha (0.05)<br>\n",
    "At a given level of accuracy game_30 and game_40 distributions are not equal.<br>\n",
    "This means that users who experienced game_40 version coming back to the game after 7 days less likely than users of game_30 version."
   ]
  },
  {
   "cell_type": "markdown",
   "metadata": {},
   "source": [
    "### Conclusion and recommendations <a name = \"recommendations\"></a>\n",
    "Average number of gamerounds and retention of users at first day are almost equal between different versions.<br>\n",
    "Even though for game_40 version they both are little bit lower.<br>\n",
    "At the same time, retention of users of game_40 version at seventh day is less then retention of users of game_30 version.<br>\n",
    "Based on this analysis I recommend to keep game_30 version of game."
   ]
  }
 ],
 "metadata": {
  "colab": {
   "provenance": []
  },
  "kernelspec": {
   "display_name": "Python 3 (ipykernel)",
   "language": "python",
   "name": "python3"
  },
  "language_info": {
   "codemirror_mode": {
    "name": "ipython",
    "version": 3
   },
   "file_extension": ".py",
   "mimetype": "text/x-python",
   "name": "python",
   "nbconvert_exporter": "python",
   "pygments_lexer": "ipython3",
   "version": "3.9.13"
  }
 },
 "nbformat": 4,
 "nbformat_minor": 1
}
